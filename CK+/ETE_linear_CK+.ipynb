{
 "cells": [
  {
   "cell_type": "code",
   "execution_count": 1,
   "id": "6ab87edb",
   "metadata": {},
   "outputs": [],
   "source": [
    "from keras.layers import Input, Lambda, Dense, Flatten, Conv2D, MaxPooling2D, BatchNormalization, Dropout\n",
    "from keras.models import Model\n",
    "from keras.applications.vgg16 import VGG16\n",
    "from keras.applications.vgg16 import preprocess_input\n",
    "from keras.preprocessing import image\n",
    "from keras.preprocessing.image import ImageDataGenerator\n",
    "from keras.models import Sequential\n",
    "import numpy as np\n",
    "from glob import glob\n",
    "import matplotlib.pyplot as plt\n",
    "import tensorflow as tf\n",
    "import random"
   ]
  },
  {
   "cell_type": "code",
   "execution_count": 2,
   "id": "c8cd0cdf",
   "metadata": {},
   "outputs": [],
   "source": [
    "random.seed(42)\n",
    "np.random.seed(42)\n",
    "tf.random.set_seed(42)"
   ]
  },
  {
   "cell_type": "code",
   "execution_count": 3,
   "id": "c2913c84",
   "metadata": {},
   "outputs": [],
   "source": [
    "import keras.backend as K\n",
    "\n",
    "def categorical_focal_loss(alpha, gamma=2.):\n",
    "\n",
    "    alpha = np.array(alpha, dtype=np.float32)\n",
    "\n",
    "    def categorical_focal_loss_fixed(y_true, y_pred):\n",
    "        \"\"\"\n",
    "        :param y_true: A tensor of the same shape as `y_pred`\n",
    "        :param y_pred: A tensor resulting from a softmax\n",
    "        :return: Output tensor.\n",
    "        \"\"\"\n",
    "\n",
    "        # Clip the prediction value to prevent NaN's and Inf's\n",
    "        epsilon = K.epsilon()\n",
    "        y_pred = K.clip(y_pred, epsilon, 1. - epsilon)\n",
    "\n",
    "        # Calculate Cross Entropy\n",
    "        cross_entropy = -y_true * K.log(y_pred)\n",
    "\n",
    "        # Calculate Focal Loss\n",
    "        loss = alpha * K.pow(1 - y_pred, gamma) * cross_entropy\n",
    "\n",
    "        # Compute mean loss in mini_batch\n",
    "        return K.mean(K.sum(loss, axis=-1))\n",
    "\n",
    "    return categorical_focal_loss_fixed"
   ]
  },
  {
   "cell_type": "code",
   "execution_count": 4,
   "id": "7d45ef9c",
   "metadata": {},
   "outputs": [],
   "source": [
    "import dill\n",
    "\n",
    "custom_object = {'categorical_focal_loss_fixed': dill.loads(dill.dumps(categorical_focal_loss(gamma=2., alpha=0.25)))}"
   ]
  },
  {
   "cell_type": "code",
   "execution_count": 5,
   "id": "64de60b1",
   "metadata": {},
   "outputs": [
    {
     "name": "stdout",
     "output_type": "stream",
     "text": [
      "Number of folders,\n",
      " ['C:/Users/wweis/Deep Learning/CKplus/data/train\\\\anger', 'C:/Users/wweis/Deep Learning/CKplus/data/train\\\\contempt', 'C:/Users/wweis/Deep Learning/CKplus/data/train\\\\disgust', 'C:/Users/wweis/Deep Learning/CKplus/data/train\\\\fear', 'C:/Users/wweis/Deep Learning/CKplus/data/train\\\\happy', 'C:/Users/wweis/Deep Learning/CKplus/data/train\\\\sadness', 'C:/Users/wweis/Deep Learning/CKplus/data/train\\\\surprise']\n"
     ]
    }
   ],
   "source": [
    "# useful for getting number of classes\n",
    "folders = glob('C:/Users/wweis/Deep Learning/CKplus/data/train/*')\n",
    "print(\"Number of folders,\\n\",folders)"
   ]
  },
  {
   "cell_type": "code",
   "execution_count": 6,
   "id": "724f4470",
   "metadata": {},
   "outputs": [
    {
     "name": "stdout",
     "output_type": "stream",
     "text": [
      "Found 686 images belonging to 7 classes.\n",
      "Found 98 images belonging to 7 classes.\n",
      "Found 197 images belonging to 7 classes.\n"
     ]
    }
   ],
   "source": [
    "from keras.preprocessing.image import ImageDataGenerator\n",
    "\n",
    "train_datagen = ImageDataGenerator(rescale = 1./255,\n",
    "                                   shear_range = 0.2,\n",
    "                                   zoom_range = 0.2,\n",
    "                                   horizontal_flip = True)\n",
    "\n",
    "test_datagen = ImageDataGenerator(rescale = 1./255)\n",
    "\n",
    "training_set = train_datagen.flow_from_directory('C:/Users/wweis/Deep Learning/CKplus/data/train',\n",
    "                                                 target_size = (224, 224),\n",
    "                                                 batch_size = 1,\n",
    "                                                 class_mode = 'categorical',\n",
    "                                                 shuffle=False,\n",
    "                                                 seed=42)\n",
    "\n",
    "validation_set = test_datagen.flow_from_directory(\n",
    "        'C:/Users/wweis/Deep Learning/CKplus/data/valid',\n",
    "        target_size=(224, 224),\n",
    "        batch_size=1,\n",
    "        class_mode='categorical',\n",
    "        shuffle=False,\n",
    "        seed=42)\n",
    "\n",
    "test_set = test_datagen.flow_from_directory('C:/Users/wweis/Deep Learning/CKplus/data/test',\n",
    "                                            target_size = (224, 224),\n",
    "                                            batch_size=1,\n",
    "                                            class_mode='categorical',\n",
    "                                            shuffle=False,\n",
    "                                            seed=42)"
   ]
  },
  {
   "cell_type": "code",
   "execution_count": 7,
   "id": "33c53021",
   "metadata": {},
   "outputs": [],
   "source": [
    "from keras.models import load_model\n",
    "\n",
    "# saved_model = load_model(\"models/CE_CK+.h5\")\n",
    "saved_model = load_model(\"models/FL_CK+.h5\", custom_objects=custom_object)"
   ]
  },
  {
   "cell_type": "code",
   "execution_count": 8,
   "id": "3e4bb4bb",
   "metadata": {},
   "outputs": [],
   "source": [
    "branch_predictions_train = saved_model.predict(training_set)\n",
    "branch_predictions_valid = saved_model.predict(validation_set)\n",
    "branch_predictions_test = saved_model.predict(test_set)"
   ]
  },
  {
   "cell_type": "code",
   "execution_count": 9,
   "id": "76e3abaf",
   "metadata": {},
   "outputs": [],
   "source": [
    "indices_to_remove = [0, 1, 2]\n",
    "best_train_branch = [arr for index, arr in enumerate(branch_predictions_train) if index not in indices_to_remove]\n",
    "best_valid_branch = [arr for index, arr in enumerate(branch_predictions_valid) if index not in indices_to_remove]\n",
    "best_test_branch = [arr for index, arr in enumerate(branch_predictions_test) if index not in indices_to_remove]\n",
    "\n",
    "best_train_branch = np.array(best_train_branch)\n",
    "best_valid_branch = np.array(best_valid_branch)\n",
    "best_test_branch = np.array(best_test_branch)"
   ]
  },
  {
   "cell_type": "code",
   "execution_count": 10,
   "id": "ba78c53c",
   "metadata": {},
   "outputs": [],
   "source": [
    "# Extract probability features from each classifier using the best model\n",
    "features_train = []\n",
    "for i in range(len(best_train_branch)):\n",
    "    probs = best_train_branch[i]\n",
    "    features_train.append(probs)\n",
    "\n",
    "features_valid = []\n",
    "for i in range(len(best_train_branch)):\n",
    "    probs = best_valid_branch[i]\n",
    "    features_valid.append(probs)\n",
    "\n",
    "features_test = []\n",
    "for i in range(len(best_train_branch)):\n",
    "    probs = best_test_branch[i]\n",
    "    features_test.append(probs)\n",
    "    \n",
    "features_train = np.array(features_train)\n",
    "features_valid = np.array(features_valid)\n",
    "features_test = np.array(features_test)"
   ]
  },
  {
   "cell_type": "code",
   "execution_count": 11,
   "id": "11819480",
   "metadata": {},
   "outputs": [],
   "source": [
    "probs_train = []\n",
    "for i in range(len(training_set)):\n",
    "    probs_values = []\n",
    "    for j in range(len(best_train_branch)):\n",
    "        prob = features_train[j, i]\n",
    "        probs_values.append(prob)\n",
    "    probs_concatenated = np.concatenate(probs_values, axis=0)\n",
    "    probs_train.append(probs_concatenated)\n",
    "    \n",
    "probs_valid = []\n",
    "for i in range(len(validation_set)):\n",
    "    probs_values = []\n",
    "    for j in range(len(best_train_branch)):\n",
    "        prob = features_valid[j, i]\n",
    "        probs_values.append(prob)\n",
    "    probs_concatenated = np.concatenate(probs_values, axis=0)\n",
    "    probs_valid.append(probs_concatenated)\n",
    "    \n",
    "probs_test = []\n",
    "for i in range(len(test_set)):\n",
    "    probs_values = []\n",
    "    for j in range(len(best_train_branch)):\n",
    "        prob = features_test[j, i]\n",
    "        probs_values.append(prob)\n",
    "    probs_concatenated = np.concatenate(probs_values, axis=0)\n",
    "    probs_test.append(probs_concatenated)\n",
    "    \n",
    "probs_train = np.array(probs_train)\n",
    "probs_valid = np.array(probs_valid)\n",
    "probs_test = np.array(probs_test)"
   ]
  },
  {
   "cell_type": "code",
   "execution_count": 12,
   "id": "3fff6660",
   "metadata": {},
   "outputs": [],
   "source": [
    "from keras.utils import np_utils\n",
    "# one hot encode outputs\n",
    "y_train = np_utils.to_categorical(training_set.labels, num_classes=len(folders))\n",
    "y_valid = np_utils.to_categorical(validation_set.labels, num_classes=len(folders))\n",
    "y_test = np_utils.to_categorical(test_set.labels, num_classes=len(folders))"
   ]
  },
  {
   "cell_type": "code",
   "execution_count": 13,
   "id": "3c3062f7",
   "metadata": {},
   "outputs": [],
   "source": [
    "# Step 7: Train the multilayer perceptron using the probability features\n",
    "mlp = Sequential()\n",
    "mlp.add(Dense(512, activation='relu', input_shape=(14,)))\n",
    "mlp.add(Flatten())\n",
    "mlp.add(Dense(512, activation='relu'))\n",
    "mlp.add(Dense(256, activation='relu'))\n",
    "mlp.add(Dense(128, activation='relu'))\n",
    "mlp.add(Dense(64, activation='relu'))\n",
    "mlp.add(Dense(7, activation='softmax'))"
   ]
  },
  {
   "cell_type": "code",
   "execution_count": 14,
   "id": "4b1a0706",
   "metadata": {},
   "outputs": [
    {
     "name": "stdout",
     "output_type": "stream",
     "text": [
      "Model: \"sequential\"\n",
      "_________________________________________________________________\n",
      "Layer (type)                 Output Shape              Param #   \n",
      "=================================================================\n",
      "dense (Dense)                (None, 512)               7680      \n",
      "_________________________________________________________________\n",
      "flatten (Flatten)            (None, 512)               0         \n",
      "_________________________________________________________________\n",
      "dense_1 (Dense)              (None, 512)               262656    \n",
      "_________________________________________________________________\n",
      "dense_2 (Dense)              (None, 256)               131328    \n",
      "_________________________________________________________________\n",
      "dense_3 (Dense)              (None, 128)               32896     \n",
      "_________________________________________________________________\n",
      "dense_4 (Dense)              (None, 64)                8256      \n",
      "_________________________________________________________________\n",
      "dense_5 (Dense)              (None, 7)                 455       \n",
      "=================================================================\n",
      "Total params: 443,271\n",
      "Trainable params: 443,271\n",
      "Non-trainable params: 0\n",
      "_________________________________________________________________\n"
     ]
    }
   ],
   "source": [
    "mlp.summary()"
   ]
  },
  {
   "cell_type": "code",
   "execution_count": 15,
   "id": "e53d4402",
   "metadata": {},
   "outputs": [
    {
     "name": "stdout",
     "output_type": "stream",
     "text": [
      "Epoch 1/20\n",
      "22/22 [==============================] - 1s 18ms/step - loss: 0.1390 - accuracy: 0.9227 - val_loss: 0.0058 - val_accuracy: 0.9898\n",
      "Epoch 2/20\n",
      "22/22 [==============================] - 0s 11ms/step - loss: 3.9556e-04 - accuracy: 0.9971 - val_loss: 0.0068 - val_accuracy: 0.9898\n",
      "Epoch 3/20\n",
      "22/22 [==============================] - 0s 9ms/step - loss: 0.0014 - accuracy: 0.9985 - val_loss: 0.0025 - val_accuracy: 0.9796\n",
      "Epoch 4/20\n",
      "22/22 [==============================] - 0s 9ms/step - loss: 6.3107e-04 - accuracy: 0.9956 - val_loss: 0.0216 - val_accuracy: 0.9898\n",
      "Epoch 5/20\n",
      "22/22 [==============================] - 0s 9ms/step - loss: 0.0019 - accuracy: 0.9971 - val_loss: 0.0036 - val_accuracy: 0.9898\n",
      "Epoch 6/20\n",
      "22/22 [==============================] - 0s 8ms/step - loss: 9.2983e-04 - accuracy: 0.9985 - val_loss: 0.0066 - val_accuracy: 0.9898\n",
      "Epoch 7/20\n",
      "22/22 [==============================] - 0s 7ms/step - loss: 6.5522e-04 - accuracy: 0.9985 - val_loss: 0.0070 - val_accuracy: 0.9898\n",
      "Epoch 8/20\n",
      "22/22 [==============================] - 0s 7ms/step - loss: 3.5948e-06 - accuracy: 1.0000 - val_loss: 0.0116 - val_accuracy: 0.9898\n",
      "Epoch 9/20\n",
      "22/22 [==============================] - 0s 7ms/step - loss: 3.1028e-05 - accuracy: 1.0000 - val_loss: 0.0119 - val_accuracy: 0.9898\n",
      "Epoch 10/20\n",
      "22/22 [==============================] - 0s 7ms/step - loss: 6.3229e-06 - accuracy: 1.0000 - val_loss: 0.0118 - val_accuracy: 0.9898\n",
      "Epoch 11/20\n",
      "22/22 [==============================] - 0s 7ms/step - loss: 4.6728e-06 - accuracy: 1.0000 - val_loss: 0.0118 - val_accuracy: 0.9898\n",
      "Epoch 12/20\n",
      "22/22 [==============================] - 0s 7ms/step - loss: 2.6070e-06 - accuracy: 1.0000 - val_loss: 0.0118 - val_accuracy: 0.9898\n",
      "Epoch 13/20\n",
      "22/22 [==============================] - 0s 7ms/step - loss: 2.1413e-06 - accuracy: 1.0000 - val_loss: 0.0118 - val_accuracy: 0.9898\n",
      "Epoch 14/20\n",
      "22/22 [==============================] - 0s 7ms/step - loss: 1.8274e-06 - accuracy: 1.0000 - val_loss: 0.0118 - val_accuracy: 0.9898\n",
      "Epoch 15/20\n",
      "22/22 [==============================] - 0s 7ms/step - loss: 1.5657e-06 - accuracy: 1.0000 - val_loss: 0.0118 - val_accuracy: 0.9898\n",
      "Epoch 16/20\n",
      "22/22 [==============================] - 0s 6ms/step - loss: 1.3613e-06 - accuracy: 1.0000 - val_loss: 0.0119 - val_accuracy: 0.9898\n",
      "Epoch 17/20\n",
      "22/22 [==============================] - 0s 7ms/step - loss: 1.1842e-06 - accuracy: 1.0000 - val_loss: 0.0119 - val_accuracy: 0.9898\n",
      "Epoch 18/20\n",
      "22/22 [==============================] - 0s 9ms/step - loss: 1.0444e-06 - accuracy: 1.0000 - val_loss: 0.0120 - val_accuracy: 0.9898\n",
      "Epoch 19/20\n",
      "22/22 [==============================] - 0s 7ms/step - loss: 9.2128e-07 - accuracy: 1.0000 - val_loss: 0.0121 - val_accuracy: 0.9898\n",
      "Epoch 20/20\n",
      "22/22 [==============================] - 0s 8ms/step - loss: 8.2209e-07 - accuracy: 1.0000 - val_loss: 0.0121 - val_accuracy: 0.9898\n"
     ]
    }
   ],
   "source": [
    "# Compile and train the MLP\n",
    "# mlp.compile(optimizer='adam', loss='categorical_crossentropy', metrics=['accuracy'])\n",
    "mlp.compile(optimizer='adam', loss=categorical_focal_loss(0.25), metrics=['accuracy'])\n",
    "hist1 = mlp.fit(probs_train, y_train, validation_data=(probs_valid, y_valid), batch_size=32, epochs=20)"
   ]
  },
  {
   "cell_type": "code",
   "execution_count": 16,
   "id": "d7010eb3",
   "metadata": {},
   "outputs": [
    {
     "name": "stdout",
     "output_type": "stream",
     "text": [
      "7/7 [==============================] - 0s 4ms/step - loss: 0.0058 - accuracy: 0.9949\n"
     ]
    }
   ],
   "source": [
    "score_mlp = mlp.evaluate(probs_test, y_test)"
   ]
  },
  {
   "cell_type": "code",
   "execution_count": 17,
   "id": "9a0f8572",
   "metadata": {},
   "outputs": [],
   "source": [
    "from sklearn.metrics import classification_report\n",
    "\n",
    "predicted = mlp.predict(probs_test)"
   ]
  },
  {
   "cell_type": "code",
   "execution_count": 18,
   "id": "dc1a9d3e",
   "metadata": {},
   "outputs": [],
   "source": [
    "y_pred_label = np.argmax(predicted, axis=1)"
   ]
  },
  {
   "cell_type": "code",
   "execution_count": 19,
   "id": "506cb002",
   "metadata": {},
   "outputs": [
    {
     "name": "stdout",
     "output_type": "stream",
     "text": [
      "              precision    recall  f1-score   support\n",
      "\n",
      "           0       1.00      1.00      1.00        27\n",
      "           1       0.92      1.00      0.96        11\n",
      "           2       1.00      1.00      1.00        36\n",
      "           3       1.00      1.00      1.00        15\n",
      "           4       1.00      1.00      1.00        41\n",
      "           5       1.00      0.94      0.97        17\n",
      "           6       1.00      1.00      1.00        50\n",
      "\n",
      "    accuracy                           0.99       197\n",
      "   macro avg       0.99      0.99      0.99       197\n",
      "weighted avg       1.00      0.99      0.99       197\n",
      "\n"
     ]
    }
   ],
   "source": [
    "report = classification_report(test_set.labels, y_pred_label)\n",
    "print(report)"
   ]
  },
  {
   "cell_type": "code",
   "execution_count": 20,
   "id": "98e5ae6f",
   "metadata": {},
   "outputs": [],
   "source": [
    "# score_valid = saved_model.evaluate(test_set)"
   ]
  },
  {
   "cell_type": "code",
   "execution_count": 21,
   "id": "6fe6525f",
   "metadata": {},
   "outputs": [],
   "source": [
    "# pred = saved_model.predict(test_set)\n",
    "\n",
    "# # Get the number of unique labels\n",
    "# num_labels = len(np.unique(test_set.classes))\n",
    "\n",
    "# predicted_class_indices = []\n",
    "\n",
    "# for branch in range(5):\n",
    "#     predicted_class_indices.append(np.argmax(pred[branch],axis=1))\n",
    "\n",
    "# # Define a list of label names\n",
    "# label_names = ['anger', 'contempt', 'disgust', 'fear', 'happy', 'sadness', 'surprise']\n",
    "\n",
    "# # Compute the accuracy for each label\n",
    "# for branch in range(5):\n",
    "#     predicted_class = predicted_class_indices[branch]\n",
    "\n",
    "#     label_accs = {}\n",
    "#     for label in range(num_labels):\n",
    "#         idx = np.where(test_set.classes == label)[0]\n",
    "#         label_acc = np.mean(predicted_class[idx] == test_set.classes[idx])\n",
    "#         label_accs[label_names[label]] = label_acc\n",
    "\n",
    "#     # Print the accuracy for each label\n",
    "#     for label, acc in label_accs.items():\n",
    "#         print(f\"Accuracy for label {label}: {acc:.2f}\")\n",
    "#     print(\"\\n\")"
   ]
  },
  {
   "cell_type": "code",
   "execution_count": 22,
   "id": "d21c622e",
   "metadata": {
    "scrolled": false
   },
   "outputs": [
    {
     "data": {
      "image/png": "[encoded data removed]",
      "text/plain": [
       "<Figure size 1000x500 with 2 Axes>"
      ]
     },
     "metadata": {},
     "output_type": "display_data"
    }
   ],
   "source": [
    "from sklearn.metrics import confusion_matrix\n",
    "import seaborn as sns\n",
    "import pandas as pd\n",
    "\n",
    "plt.figure(figsize=(10, 5))\n",
    "\n",
    "# Get the true labels for the test set\n",
    "# y_true = test_set.classes\n",
    "\n",
    "\n",
    "# Compute the confusion matrix for the current branch\n",
    "conf_mat = confusion_matrix(test_set.labels,y_pred_label)\n",
    "\n",
    "df_cm = pd.DataFrame(conf_mat, index=['anger', 'contempt', 'disgust', 'fear', 'happy', 'sadness', 'surprise'], \n",
    "                    columns=['anger', 'contempt', 'disgust', 'fear', 'happy', 'sadness', 'surprise'])\n",
    "\n",
    "# Create a subplot for the current branch\n",
    "# plt.subplot(3, 2, branch+1)  # Adjust the subplot layout as needed\n",
    "plt.title(\"Confusion matrix\")\n",
    "sns.heatmap(df_cm, annot=True, fmt=\"d\", cmap=\"YlGnBu\")\n",
    "plt.ylabel(\"Predicted\")\n",
    "plt.xlabel(\"Actual\")\n",
    "\n",
    "# Adjust the spacing between subplots if necessary\n",
    "# plt.tight_layout()\n",
    "\n",
    "# Show the plot\n",
    "plt.show()\n"
   ]
  },
  {
   "cell_type": "code",
   "execution_count": 23,
   "id": "d3937c9b",
   "metadata": {},
   "outputs": [],
   "source": [
    "# from sklearn.metrics import classification_report\n",
    "\n",
    "# for branch in range(5):\n",
    "#     # Assuming y_true and y_pred are the true and predicted labels\n",
    "#     report = classification_report(y_true, predicted_class_indices[branch])\n",
    "#     print(report)"
   ]
  },
  {
   "cell_type": "code",
   "execution_count": 24,
   "id": "6115a2cb",
   "metadata": {},
   "outputs": [],
   "source": [
    "# branch_predictions = [score_valid[6], score_valid[7], score_valid[8], score_valid[9], score_valid[10]]\n",
    "\n",
    "# # Assuming you have the predicted probabilities from each model stored in a list\n",
    "# model_predictions = [pred[0], pred[1], pred[2], pred[3], pred[4]]\n",
    "\n",
    "# branch_left = len(model_predictions)"
   ]
  },
  {
   "cell_type": "code",
   "execution_count": 25,
   "id": "84a579c4",
   "metadata": {},
   "outputs": [],
   "source": [
    "# import pandas as pd\n",
    "\n",
    "# for m in range(branch_left-1):\n",
    "#     print(len(model_predictions))\n",
    "#     # Calculate the product of probabilities for each class across all models\n",
    "#     ensemble_pred_probs_product = np.prod(model_predictions, axis=0)\n",
    "#     ensemble_pred_probs_max = np.max(model_predictions, axis=0)\n",
    "#     ensemble_pred_probs_mean = np.mean(model_predictions, axis=0)\n",
    "\n",
    "#     ensemble_pred = [ensemble_pred_probs_product, ensemble_pred_probs_max, ensemble_pred_probs_mean]\n",
    "    \n",
    "#     class_data = []\n",
    "\n",
    "#     for k in range(len(ensemble_pred)):\n",
    "#         data = []\n",
    "\n",
    "#         for i in range(len(pred[0])):\n",
    "#             sample_data = []\n",
    "#             sample_data.append(\"Sample \" + str(i+1))\n",
    "\n",
    "#             for j in range(len(folders)):\n",
    "#                 ensemble_pred_probs = ensemble_pred[k]\n",
    "#                 sample_data.append(ensemble_pred_probs[i,j])\n",
    "\n",
    "#             data.append(sample_data)\n",
    "\n",
    "#         df = pd.DataFrame(data, columns=[\"Sample\", 'anger', 'contempt', 'disgust', 'fear', 'happy', 'sadness', 'surprise'])\n",
    "#         df.to_excel(\"valid_\"+str(m)+\"_\"+str(k)+\".xlsx\", index=False)\n",
    "\n",
    "#         # Get the predicted classes by selecting the class with the highest probability\n",
    "#         ensemble_pred_classes = np.argmax(ensemble_pred_probs, axis=1)\n",
    "\n",
    "#         # Print the ensemble predictions\n",
    "#         for i in range(len(ensemble_pred_classes)):\n",
    "#             class_data.append(\"Sample\" + str(i+1))\n",
    "#             class_data.append(test_set.labels[i])\n",
    "#             class_data.append(ensemble_pred_classes[i])\n",
    "# #             print(\"Sample\", i+1, \": Predicted class:\", ensemble_pred_classes[i])\n",
    "\n",
    "#         # Assuming you have the true labels for the validation set stored in a variable\n",
    "#         true_labels = test_set.labels\n",
    "\n",
    "#         # Calculate the accuracy of the ensemble predictions\n",
    "#         accuracy = np.mean(ensemble_pred_classes == true_labels) * 100\n",
    "#         class_data.extend([\"Accuracy\", \"\", accuracy])\n",
    "\n",
    "#         print(\"Ensemble accuracy on the valid set: {:.2f}%\".format(accuracy))\n",
    "        \n",
    "#         df1 = pd.DataFrame(np.array(class_data).reshape(-1, 3), columns=[\"Sample\", 'Actual', 'Predicted'])\n",
    "#         df1.to_excel(\"Predicted_valid_\"+str(m)+\".xlsx\", index=False)\n",
    "    \n",
    "#     if(len(model_predictions)>2):\n",
    "#         lowest_accuracy_branch_idx = np.argmin(branch_predictions)\n",
    "#         branch_predictions.pop(lowest_accuracy_branch_idx)\n",
    "#         model_predictions.pop(lowest_accuracy_branch_idx)\n",
    "    \n",
    "#     print(\"-----------------------------------------------------------------------------------------------------\")"
   ]
  },
  {
   "cell_type": "code",
   "execution_count": 27,
   "id": "d75d3bd1",
   "metadata": {},
   "outputs": [],
   "source": [
    "# Saving the model\n",
    "\n",
    "# mlp.save('C:/Users/wweis/Deep Learning/CKplus/models/MLP_FL_CK+.h5')"
   ]
  },
  {
   "cell_type": "code",
   "execution_count": null,
   "id": "a3c66cf1",
   "metadata": {},
   "outputs": [],
   "source": []
  }
 ],
 "metadata": {
  "kernelspec": {
   "display_name": "tf",
   "language": "python",
   "name": "tf"
  },
  "language_info": {
   "codemirror_mode": {
    "name": "ipython",
    "version": 3
   },
   "file_extension": ".py",
   "mimetype": "text/x-python",
   "name": "python",
   "nbconvert_exporter": "python",
   "pygments_lexer": "ipython3",
   "version": "3.9.16"
  }
 },
 "nbformat": 4,
 "nbformat_minor": 5
}
