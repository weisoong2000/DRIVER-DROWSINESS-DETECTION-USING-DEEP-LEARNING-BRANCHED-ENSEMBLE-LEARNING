{
 "cells": [
  {
   "cell_type": "code",
   "execution_count": 1,
   "id": "762b5710",
   "metadata": {},
   "outputs": [],
   "source": [
    "from keras.layers import Input, Lambda, Dense, Flatten\n",
    "from keras.models import Model\n",
    "from keras.applications.vgg16 import VGG16\n",
    "from keras.applications.vgg16 import preprocess_input\n",
    "from keras.preprocessing import image\n",
    "from keras.preprocessing.image import ImageDataGenerator\n",
    "from keras.models import Sequential\n",
    "import numpy as np\n",
    "from glob import glob\n",
    "import matplotlib.pyplot as plt\n",
    "import tensorflow as tf\n",
    "import random"
   ]
  },
  {
   "cell_type": "code",
   "execution_count": 2,
   "id": "94dffc12",
   "metadata": {},
   "outputs": [],
   "source": [
    "random.seed(42)\n",
    "np.random.seed(42)\n",
    "tf.random.set_seed(42)"
   ]
  },
  {
   "cell_type": "code",
   "execution_count": 3,
   "id": "27c31f55",
   "metadata": {},
   "outputs": [],
   "source": [
    "import keras.backend as K\n",
    "\n",
    "def categorical_focal_loss(alpha, gamma=2.):\n",
    "\n",
    "    alpha = np.array(alpha, dtype=np.float32)\n",
    "\n",
    "    def categorical_focal_loss_fixed(y_true, y_pred):\n",
    "        \"\"\"\n",
    "        :param y_true: A tensor of the same shape as `y_pred`\n",
    "        :param y_pred: A tensor resulting from a softmax\n",
    "        :return: Output tensor.\n",
    "        \"\"\"\n",
    "\n",
    "        # Clip the prediction value to prevent NaN's and Inf's\n",
    "        epsilon = K.epsilon()\n",
    "        y_pred = K.clip(y_pred, epsilon, 1. - epsilon)\n",
    "\n",
    "        # Calculate Cross Entropy\n",
    "        cross_entropy = -y_true * K.log(y_pred)\n",
    "\n",
    "        # Calculate Focal Loss\n",
    "        loss = alpha * K.pow(1 - y_pred, gamma) * cross_entropy\n",
    "\n",
    "        # Compute mean loss in mini_batch\n",
    "        return K.mean(K.sum(loss, axis=-1))\n",
    "\n",
    "    return categorical_focal_loss_fixed"
   ]
  },
  {
   "cell_type": "markdown",
   "id": "28f592eb",
   "metadata": {},
   "source": [
    "## Data Loading"
   ]
  },
  {
   "cell_type": "code",
   "execution_count": 4,
   "id": "6638005d",
   "metadata": {},
   "outputs": [],
   "source": [
    "# re-size all the images to this\n",
    "IMAGE_SIZE = [224, 224]"
   ]
  },
  {
   "cell_type": "code",
   "execution_count": 6,
   "id": "fc7eca41",
   "metadata": {},
   "outputs": [
    {
     "name": "stdout",
     "output_type": "stream",
     "text": [
      "Number of folders,\n",
      " ['C:/Users/wweis/Deep Learning/CKplus/data/train\\\\anger', 'C:/Users/wweis/Deep Learning/CKplus/data/train\\\\contempt', 'C:/Users/wweis/Deep Learning/CKplus/data/train\\\\disgust', 'C:/Users/wweis/Deep Learning/CKplus/data/train\\\\fear', 'C:/Users/wweis/Deep Learning/CKplus/data/train\\\\happy', 'C:/Users/wweis/Deep Learning/CKplus/data/train\\\\sadness', 'C:/Users/wweis/Deep Learning/CKplus/data/train\\\\surprise']\n"
     ]
    }
   ],
   "source": [
    "# useful for getting number of classes\n",
    "folders = glob('C:/CKplus/data/train/*')\n",
    "print(\"Number of folders,\\n\",folders)"
   ]
  },
  {
   "cell_type": "markdown",
   "id": "e8dbe9f4",
   "metadata": {},
   "source": [
    "## Data Augmentation"
   ]
  },
  {
   "cell_type": "code",
   "execution_count": 7,
   "id": "fd80ce33",
   "metadata": {},
   "outputs": [
    {
     "name": "stdout",
     "output_type": "stream",
     "text": [
      "Found 686 images belonging to 7 classes.\n",
      "Found 98 images belonging to 7 classes.\n",
      "Found 197 images belonging to 7 classes.\n"
     ]
    }
   ],
   "source": [
    "from keras.preprocessing.image import ImageDataGenerator\n",
    "\n",
    "train_datagen = ImageDataGenerator(rescale = 1./255,\n",
    "                                   shear_range = 0.2,\n",
    "                                   zoom_range = 0.2,\n",
    "                                   horizontal_flip = True)\n",
    "\n",
    "test_datagen = ImageDataGenerator(rescale = 1./255)\n",
    "\n",
    "training_set = train_datagen.flow_from_directory('C:/CKplus/data/train',\n",
    "                                                 target_size = (224, 224),\n",
    "                                                 batch_size = 32,\n",
    "                                                 class_mode = 'categorical',\n",
    "                                                 shuffle=True,\n",
    "                                                 seed=42)\n",
    "\n",
    "validation_set = test_datagen.flow_from_directory(\n",
    "        'C:/CKplus/data/valid',\n",
    "        target_size=(224, 224),\n",
    "        batch_size=32,\n",
    "        class_mode='categorical',\n",
    "        shuffle=True,\n",
    "        seed=42)\n",
    "\n",
    "test_set = test_datagen.flow_from_directory('C:/CKplus/data/test',\n",
    "                                            target_size = (224, 224),\n",
    "                                            batch_size=1,\n",
    "                                            class_mode='categorical',\n",
    "                                            shuffle=False,\n",
    "                                            seed=42)"
   ]
  },
  {
   "cell_type": "code",
   "execution_count": 8,
   "id": "7d8c63ac",
   "metadata": {},
   "outputs": [
    {
     "name": "stdout",
     "output_type": "stream",
     "text": [
      "22\n",
      "686\n"
     ]
    }
   ],
   "source": [
    "print(len(training_set))\n",
    "print(len(training_set.classes))"
   ]
  },
  {
   "cell_type": "markdown",
   "id": "c17a8cd3",
   "metadata": {},
   "source": [
    "## Pretrained VGG-16"
   ]
  },
  {
   "cell_type": "code",
   "execution_count": 9,
   "id": "ad042ccd",
   "metadata": {},
   "outputs": [],
   "source": [
    "# add preprocessing layer to the front of VGG\n",
    "# vgg = VGG16(input_shape=IMAGE_SIZE + [3], weights='imagenet', include_top=False)\n",
    "vgg = VGG16(input_shape=(224, 224, 3), weights='imagenet', include_top=False)\n",
    "\n",
    "# don't train existing weights\n",
    "for layer in vgg.layers:\n",
    "  layer.trainable = False"
   ]
  },
  {
   "cell_type": "code",
   "execution_count": 10,
   "id": "f83f411f",
   "metadata": {},
   "outputs": [],
   "source": [
    "x = Flatten()(vgg.output)\n",
    "# x = Flatten()(vgg.get_layer('block5_pool').output)\n",
    "# x = Dense(1000, activation='relu')(x)\n",
    "prediction = Dense(len(folders), activation='softmax')(x)\n",
    "\n",
    "# create a model object\n",
    "model = Model(inputs=vgg.input, outputs=prediction)"
   ]
  },
  {
   "cell_type": "code",
   "execution_count": 11,
   "id": "b9e2bb67",
   "metadata": {},
   "outputs": [
    {
     "name": "stdout",
     "output_type": "stream",
     "text": [
      "Model: \"model\"\n",
      "_________________________________________________________________\n",
      "Layer (type)                 Output Shape              Param #   \n",
      "=================================================================\n",
      "input_1 (InputLayer)         [(None, 224, 224, 3)]     0         \n",
      "_________________________________________________________________\n",
      "block1_conv1 (Conv2D)        (None, 224, 224, 64)      1792      \n",
      "_________________________________________________________________\n",
      "block1_conv2 (Conv2D)        (None, 224, 224, 64)      36928     \n",
      "_________________________________________________________________\n",
      "block1_pool (MaxPooling2D)   (None, 112, 112, 64)      0         \n",
      "_________________________________________________________________\n",
      "block2_conv1 (Conv2D)        (None, 112, 112, 128)     73856     \n",
      "_________________________________________________________________\n",
      "block2_conv2 (Conv2D)        (None, 112, 112, 128)     147584    \n",
      "_________________________________________________________________\n",
      "block2_pool (MaxPooling2D)   (None, 56, 56, 128)       0         \n",
      "_________________________________________________________________\n",
      "block3_conv1 (Conv2D)        (None, 56, 56, 256)       295168    \n",
      "_________________________________________________________________\n",
      "block3_conv2 (Conv2D)        (None, 56, 56, 256)       590080    \n",
      "_________________________________________________________________\n",
      "block3_conv3 (Conv2D)        (None, 56, 56, 256)       590080    \n",
      "_________________________________________________________________\n",
      "block3_pool (MaxPooling2D)   (None, 28, 28, 256)       0         \n",
      "_________________________________________________________________\n",
      "block4_conv1 (Conv2D)        (None, 28, 28, 512)       1180160   \n",
      "_________________________________________________________________\n",
      "block4_conv2 (Conv2D)        (None, 28, 28, 512)       2359808   \n",
      "_________________________________________________________________\n",
      "block4_conv3 (Conv2D)        (None, 28, 28, 512)       2359808   \n",
      "_________________________________________________________________\n",
      "block4_pool (MaxPooling2D)   (None, 14, 14, 512)       0         \n",
      "_________________________________________________________________\n",
      "block5_conv1 (Conv2D)        (None, 14, 14, 512)       2359808   \n",
      "_________________________________________________________________\n",
      "block5_conv2 (Conv2D)        (None, 14, 14, 512)       2359808   \n",
      "_________________________________________________________________\n",
      "block5_conv3 (Conv2D)        (None, 14, 14, 512)       2359808   \n",
      "_________________________________________________________________\n",
      "block5_pool (MaxPooling2D)   (None, 7, 7, 512)         0         \n",
      "_________________________________________________________________\n",
      "flatten (Flatten)            (None, 25088)             0         \n",
      "_________________________________________________________________\n",
      "dense (Dense)                (None, 7)                 175623    \n",
      "=================================================================\n",
      "Total params: 14,890,311\n",
      "Trainable params: 175,623\n",
      "Non-trainable params: 14,714,688\n",
      "_________________________________________________________________\n"
     ]
    }
   ],
   "source": [
    "model.summary()"
   ]
  },
  {
   "cell_type": "code",
   "execution_count": 12,
   "id": "f1e5c25e",
   "metadata": {},
   "outputs": [],
   "source": [
    "model.compile(\n",
    "#   loss='categorical_crossentropy',\n",
    "  loss=categorical_focal_loss(alpha=0.25, gamma=2),\n",
    "  optimizer='adam',\n",
    "  metrics=['accuracy']\n",
    ")"
   ]
  },
  {
   "cell_type": "code",
   "execution_count": 13,
   "id": "77ee845c",
   "metadata": {},
   "outputs": [
    {
     "name": "stdout",
     "output_type": "stream",
     "text": [
      "Epoch 1/20\n",
      "22/22 [==============================] - 19s 626ms/step - loss: 0.3607 - accuracy: 0.4227 - val_loss: 0.2240 - val_accuracy: 0.4388\n",
      "Epoch 2/20\n",
      "22/22 [==============================] - 8s 345ms/step - loss: 0.1414 - accuracy: 0.6720 - val_loss: 0.1020 - val_accuracy: 0.7143\n",
      "Epoch 3/20\n",
      "22/22 [==============================] - 8s 340ms/step - loss: 0.0659 - accuracy: 0.8455 - val_loss: 0.0771 - val_accuracy: 0.7959\n",
      "Epoch 4/20\n",
      "22/22 [==============================] - 8s 343ms/step - loss: 0.0459 - accuracy: 0.9009 - val_loss: 0.0386 - val_accuracy: 0.8980\n",
      "Epoch 5/20\n",
      "22/22 [==============================] - 8s 334ms/step - loss: 0.0327 - accuracy: 0.9329 - val_loss: 0.0377 - val_accuracy: 0.9388\n",
      "Epoch 6/20\n",
      "22/22 [==============================] - 7s 333ms/step - loss: 0.0278 - accuracy: 0.9446 - val_loss: 0.0318 - val_accuracy: 0.9184\n",
      "Epoch 7/20\n",
      "22/22 [==============================] - 8s 337ms/step - loss: 0.0253 - accuracy: 0.9490 - val_loss: 0.0237 - val_accuracy: 0.9490\n",
      "Epoch 8/20\n",
      "22/22 [==============================] - 8s 353ms/step - loss: 0.0182 - accuracy: 0.9679 - val_loss: 0.0342 - val_accuracy: 0.9184\n",
      "Epoch 9/20\n",
      "22/22 [==============================] - 8s 356ms/step - loss: 0.0154 - accuracy: 0.9679 - val_loss: 0.0201 - val_accuracy: 0.9592\n",
      "Epoch 10/20\n",
      "22/22 [==============================] - 8s 345ms/step - loss: 0.0155 - accuracy: 0.9650 - val_loss: 0.0167 - val_accuracy: 0.9592\n",
      "Epoch 11/20\n",
      "22/22 [==============================] - 8s 339ms/step - loss: 0.0225 - accuracy: 0.9286 - val_loss: 0.0288 - val_accuracy: 0.8776\n",
      "Epoch 12/20\n",
      "22/22 [==============================] - 8s 338ms/step - loss: 0.0213 - accuracy: 0.9359 - val_loss: 0.0160 - val_accuracy: 0.9694\n",
      "Epoch 13/20\n",
      "22/22 [==============================] - 8s 349ms/step - loss: 0.0108 - accuracy: 0.9796 - val_loss: 0.0119 - val_accuracy: 0.9796\n",
      "Epoch 14/20\n",
      "22/22 [==============================] - 8s 346ms/step - loss: 0.0080 - accuracy: 0.9869 - val_loss: 0.0079 - val_accuracy: 0.9796\n",
      "Epoch 15/20\n",
      "22/22 [==============================] - 8s 353ms/step - loss: 0.0057 - accuracy: 0.9956 - val_loss: 0.0070 - val_accuracy: 0.9796\n",
      "Epoch 16/20\n",
      "22/22 [==============================] - 8s 350ms/step - loss: 0.0064 - accuracy: 0.9898 - val_loss: 0.0084 - val_accuracy: 0.9694\n",
      "Epoch 17/20\n",
      "22/22 [==============================] - 8s 345ms/step - loss: 0.0061 - accuracy: 0.9883 - val_loss: 0.0051 - val_accuracy: 1.0000\n",
      "Epoch 18/20\n",
      "22/22 [==============================] - 8s 340ms/step - loss: 0.0043 - accuracy: 0.9956 - val_loss: 0.0082 - val_accuracy: 0.9796\n",
      "Epoch 19/20\n",
      "22/22 [==============================] - 8s 338ms/step - loss: 0.0039 - accuracy: 0.9942 - val_loss: 0.0067 - val_accuracy: 0.9694\n",
      "Epoch 20/20\n",
      "22/22 [==============================] - 8s 345ms/step - loss: 0.0028 - accuracy: 0.9971 - val_loss: 0.0080 - val_accuracy: 0.9796\n"
     ]
    }
   ],
   "source": [
    "hist = model.fit(\n",
    "  training_set,\n",
    "  validation_data=validation_set,\n",
    "  epochs=20,\n",
    "  steps_per_epoch=len(training_set),\n",
    "  validation_steps=len(validation_set),\n",
    "  verbose=1\n",
    ")"
   ]
  },
  {
   "cell_type": "code",
   "execution_count": 14,
   "id": "aba20808",
   "metadata": {},
   "outputs": [
    {
     "data": {
      "image/png": "[encoded data removed]",
      "text/plain": [
       "<Figure size 640x480 with 1 Axes>"
      ]
     },
     "metadata": {},
     "output_type": "display_data"
    },
    {
     "data": {
      "text/plain": [
       "<Figure size 640x480 with 0 Axes>"
      ]
     },
     "metadata": {},
     "output_type": "display_data"
    }
   ],
   "source": [
    "# loss\n",
    "plt.plot(hist.history['loss'], label='train loss')\n",
    "plt.plot(hist.history['val_loss'], label='val loss')\n",
    "plt.legend()\n",
    "plt.show()\n",
    "plt.savefig('LossVal_loss')"
   ]
  },
  {
   "cell_type": "code",
   "execution_count": 15,
   "id": "a2750e70",
   "metadata": {},
   "outputs": [
    {
     "data": {
      "image/png": "[encoded data removed]",
      "text/plain": [
       "<Figure size 640x480 with 1 Axes>"
      ]
     },
     "metadata": {},
     "output_type": "display_data"
    },
    {
     "data": {
      "text/plain": [
       "<Figure size 640x480 with 0 Axes>"
      ]
     },
     "metadata": {},
     "output_type": "display_data"
    }
   ],
   "source": [
    "plt.plot(hist.history['accuracy'], label='train acc')\n",
    "plt.plot(hist.history['val_accuracy'], label='val acc')\n",
    "plt.legend()\n",
    "plt.show()\n",
    "plt.savefig('AccVal_acc')"
   ]
  },
  {
   "cell_type": "markdown",
   "id": "a072ded7",
   "metadata": {},
   "source": [
    "## Model Evaluation"
   ]
  },
  {
   "cell_type": "code",
   "execution_count": 16,
   "id": "7eed41c1",
   "metadata": {},
   "outputs": [
    {
     "name": "stdout",
     "output_type": "stream",
     "text": [
      "197/197 [==============================] - 4s 18ms/step - loss: 0.0068 - accuracy: 0.9898\n"
     ]
    },
    {
     "data": {
      "text/plain": [
       "[0.0067776842042803764, 0.989847719669342]"
      ]
     },
     "execution_count": 16,
     "metadata": {},
     "output_type": "execute_result"
    }
   ],
   "source": [
    "model.evaluate(test_set, steps=len(test_set))"
   ]
  },
  {
   "cell_type": "code",
   "execution_count": 17,
   "id": "40f8abf6",
   "metadata": {},
   "outputs": [
    {
     "name": "stdout",
     "output_type": "stream",
     "text": [
      "197/197 [==============================] - 3s 16ms/step\n"
     ]
    }
   ],
   "source": [
    "STEP_SIZE_TEST=test_set.n//test_set.batch_size\n",
    "test_set.reset()\n",
    "pred=model.predict(test_set,\n",
    "                   steps=STEP_SIZE_TEST,\n",
    "                   verbose=1)"
   ]
  },
  {
   "cell_type": "code",
   "execution_count": 18,
   "id": "bd396271",
   "metadata": {},
   "outputs": [],
   "source": [
    "predicted_class_indices=np.argmax(pred,axis=1)"
   ]
  },
  {
   "cell_type": "code",
   "execution_count": 21,
   "id": "15969869",
   "metadata": {},
   "outputs": [
    {
     "name": "stdout",
     "output_type": "stream",
     "text": [
      "Accuracy for label anger: 0.93\n",
      "Accuracy for label contempt: 1.00\n",
      "Accuracy for label disgust: 1.00\n",
      "Accuracy for label fear: 1.00\n",
      "Accuracy for label happy: 1.00\n",
      "Accuracy for label sadness: 1.00\n",
      "Accuracy for label surprise: 1.00\n"
     ]
    }
   ],
   "source": [
    "# Define a list of label names\n",
    "label_names = ['anger', 'contempt', 'disgust', 'fear', 'happy', 'sadness', 'surprise']\n",
    "\n",
    "# Get the predicted labels for the test data\n",
    "# pred_labels = np.argmax(model.predict(test_set), axis=1)\n",
    "# pred_labels = np.argmax(pred, axis=1)\n",
    "\n",
    "# Get the number of unique labels\n",
    "num_labels = len(np.unique(test_set.classes))\n",
    "\n",
    "# Compute the accuracy for each label\n",
    "label_accs = {}\n",
    "for label in range(num_labels):\n",
    "    idx = np.where(test_set.classes == label)[0]\n",
    "    label_acc = np.mean(predicted_class_indices[idx] == test_set.classes[idx])\n",
    "    label_accs[label_names[label]] = label_acc\n",
    "\n",
    "# Print the accuracy for each label\n",
    "for label, acc in label_accs.items():\n",
    "    print(f\"Accuracy for label {label}: {acc:.2f}\")"
   ]
  },
  {
   "cell_type": "code",
   "execution_count": 22,
   "id": "194a6bdc",
   "metadata": {
    "scrolled": false
   },
   "outputs": [
    {
     "data": {
      "text/plain": [
       "Text(0.5, 25.722222222222214, 'Actual')"
      ]
     },
     "execution_count": 22,
     "metadata": {},
     "output_type": "execute_result"
    },
    {
     "data": {
      "image/png": "[encoded data removed]",
      "text/plain": [
       "<Figure size 2000x500 with 2 Axes>"
      ]
     },
     "metadata": {},
     "output_type": "display_data"
    }
   ],
   "source": [
    "from sklearn.metrics import confusion_matrix\n",
    "import seaborn as sns\n",
    "import pandas as pd\n",
    "\n",
    "plt.figure(figsize=(20, 5))\n",
    "\n",
    "# Make predictions on the test set\n",
    "# y_pred = model.predict(test_set)\n",
    "\n",
    "# Get the true labels for the test set\n",
    "y_true = test_set.classes\n",
    "\n",
    "# Compute the confusion matrix\n",
    "conf_mat = confusion_matrix(y_true, predicted_class_indices)\n",
    "\n",
    "df_cm = pd.DataFrame(conf_mat, index=['anger', 'contempt', 'disgust', 'fear', 'happy', 'sadness', 'surprise'], \n",
    "                     columns=['anger', 'contempt', 'disgust', 'fear', 'happy', 'sadness', 'surprise'])\n",
    "plt.subplot(121)\n",
    "plt.title(\"Confusion matrix\\n\")\n",
    "sns.heatmap(df_cm, annot=True, fmt=\"d\", cmap=\"YlGnBu\")\n",
    "plt.ylabel(\"Predicted\")\n",
    "plt.xlabel(\"Actual\")"
   ]
  },
  {
   "cell_type": "code",
   "execution_count": 23,
   "id": "0d91d46c",
   "metadata": {},
   "outputs": [
    {
     "name": "stdout",
     "output_type": "stream",
     "text": [
      "              precision    recall  f1-score   support\n",
      "\n",
      "           0       1.00      0.93      0.96        27\n",
      "           1       1.00      1.00      1.00        11\n",
      "           2       1.00      1.00      1.00        36\n",
      "           3       1.00      1.00      1.00        15\n",
      "           4       1.00      1.00      1.00        41\n",
      "           5       0.89      1.00      0.94        17\n",
      "           6       1.00      1.00      1.00        50\n",
      "\n",
      "    accuracy                           0.99       197\n",
      "   macro avg       0.98      0.99      0.99       197\n",
      "weighted avg       0.99      0.99      0.99       197\n",
      "\n"
     ]
    }
   ],
   "source": [
    "from sklearn.metrics import classification_report\n",
    "\n",
    "# Assuming y_true and y_pred are the true and predicted labels\n",
    "report = classification_report(y_true, predicted_class_indices)\n",
    "print(report)"
   ]
  },
  {
   "cell_type": "code",
   "execution_count": null,
   "id": "3ed71870",
   "metadata": {},
   "outputs": [],
   "source": []
  }
 ],
 "metadata": {
  "kernelspec": {
   "display_name": "tf",
   "language": "python",
   "name": "tf"
  },
  "language_info": {
   "codemirror_mode": {
    "name": "ipython",
    "version": 3
   },
   "file_extension": ".py",
   "mimetype": "text/x-python",
   "name": "python",
   "nbconvert_exporter": "python",
   "pygments_lexer": "ipython3",
   "version": "3.9.16"
  }
 },
 "nbformat": 4,
 "nbformat_minor": 5
}
